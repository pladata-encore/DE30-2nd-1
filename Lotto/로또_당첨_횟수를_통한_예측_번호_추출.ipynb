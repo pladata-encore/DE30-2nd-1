{
  "nbformat": 4,
  "nbformat_minor": 0,
  "metadata": {
    "colab": {
      "provenance": []
    },
    "kernelspec": {
      "name": "python3",
      "display_name": "Python 3"
    },
    "language_info": {
      "name": "python"
    }
  },
  "cells": [
    {
      "cell_type": "code",
      "execution_count": null,
      "metadata": {
        "id": "3jJi0wj6niSn"
      },
      "outputs": [],
      "source": [
        "import numpy as np\n",
        "# 로또 당첨 횟수 정보\n",
        "winning_counts = {\n",
        "    1: 185, 2: 174, 3: 180, 4: 182, 5: 162, 6: 177, 7: 179, 8: 163, 9: 141, 10: 176,\n",
        "    11: 176, 12: 190, 13: 186, 14: 182, 15: 172, 16: 177, 17: 187, 18: 183, 19: 170,\n",
        "    20: 182, 21: 173, 22: 148, 23: 154, 24: 178, 25: 156, 26: 180, 27: 187, 28: 156,\n",
        "    29: 155, 30: 171, 31: 177, 32: 162, 33: 187, 34: 191, 35: 174, 36: 175, 37: 177,\n",
        "    38: 178, 39: 177, 40: 180, 41: 154, 42: 167, 43: 192, 44: 174, 45: 179\n",
        "}\n",
        "# 전체 횟수 계산\n",
        "total_wins = sum(winning_counts.values())\n",
        "# 각 번호의 확률 계산\n",
        "winning_probs = {number: count / total_wins for number, count in winning_counts.items()}\n",
        "# 번호와 확률을 배열로 변환\n",
        "numbers = np.array(list(winning_probs.keys()))\n",
        "probabilities = np.array(list(winning_probs.values()))\n",
        "# 번호 6개를 무작위로 선택하는 함수\n",
        "def generate_lotto_numbers():\n",
        "    return sorted(np.random.choice(numbers, 6, replace=False, p=probabilities))\n",
        "# 50개의 리스트로 생성\n",
        "lotto_draws = [generate_lotto_numbers() for _ in range(50)]\n",
        "# 결과 출력\n",
        "for i, draw in enumerate(lotto_draws, 1):\n",
        "    print(f\"Draw {i}: {draw}\")"
      ]
    }
  ]
}